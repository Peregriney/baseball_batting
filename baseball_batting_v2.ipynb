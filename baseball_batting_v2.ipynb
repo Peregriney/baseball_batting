{
  "cells": [
    {
      "cell_type": "markdown",
      "metadata": {
        "id": "Nd6O7CboBSyL"
      },
      "source": [
        "#Git pull & Julia environment setup"
      ]
    },
    {
      "cell_type": "code",
      "execution_count": null,
      "metadata": {
        "colab": {
          "base_uri": "https://localhost:8080/"
        },
        "id": "th5mTAOoDdkZ",
        "outputId": "fcba235b-0ea3-4597-aa25-e2e005862cca"
      },
      "outputs": [
        {
          "output_type": "stream",
          "name": "stdout",
          "text": [
            "Cloning into 'baseball_batting'...\n",
            "remote: Enumerating objects: 312, done.\u001b[K\n",
            "remote: Counting objects: 100% (176/176), done.\u001b[K\n",
            "remote: Compressing objects: 100% (70/70), done.\u001b[K\n",
            "remote: Total 312 (delta 113), reused 164 (delta 106), pack-reused 136 (from 1)\u001b[K\n",
            "Receiving objects: 100% (312/312), 621.15 KiB | 2.04 MiB/s, done.\n",
            "Resolving deltas: 100% (177/177), done.\n"
          ]
        }
      ],
      "source": [
        "!git clone https://github.com/Peregriney/baseball_batting.git"
      ]
    },
    {
      "cell_type": "code",
      "execution_count": null,
      "metadata": {
        "colab": {
          "base_uri": "https://localhost:8080/"
        },
        "id": "7CJxxVZXxZvg",
        "outputId": "57e9c38a-19e9-4e6e-dccb-a89f93a08dae"
      },
      "outputs": [
        {
          "output_type": "stream",
          "name": "stdout",
          "text": [
            "/content/baseball_batting\n",
            "agg-der.jl\t\tdpsim-difference.png\t  player.jl\t   redsox_2023_lineuptop.csv\n",
            "agg.jl\t\t\thistogram-comparison.png  player-rbi.jl    redsox_avgs.csv\n",
            "baseball_batting.ipynb\tmain.jl\t\t\t  playertest.jl    runtime-hist.png\n",
            "config.toml\t\tmainv2.jl\t\t  plotpmf.jl\t   sabermetriccomparison.jl\n",
            "demo.jl\t\t\tnl.jl\t\t\t  plotquantile.jl  sim.jl\n",
            "derivatives.jl\t\tpkgimport.jl\t\t  redsox_2023.csv  sim-player.jl\n"
          ]
        }
      ],
      "source": [
        "%cd baseball_batting\n",
        "!ls"
      ]
    },
    {
      "cell_type": "markdown",
      "metadata": {
        "id": "Sd1PeRk0dWcD"
      },
      "source": [
        "Run to download Julia and necessary packages to runtime, then proceed with rest of code."
      ]
    },
    {
      "cell_type": "code",
      "execution_count": null,
      "metadata": {
        "colab": {
          "base_uri": "https://localhost:8080/"
        },
        "id": "HT3uexd6dV2l",
        "outputId": "ac4f6acb-dd22-481c-f6b0-a11ad27c0186"
      },
      "outputs": [
        {
          "output_type": "stream",
          "name": "stdout",
          "text": [
            "Installing Julia 1.8.2 on the current Colab Runtime...\n",
            "2024-10-21 04:01:49 URL:https://storage.googleapis.com/julialang2/bin/linux/x64/1.8/julia-1.8.2-linux-x86_64.tar.gz [135859273/135859273] -> \"/tmp/julia.tar.gz\" [1]\n",
            "Installing Julia package IJulia...\n",
            "Installing Julia package BenchmarkTools...\n",
            "Installing IJulia kernel...\n",
            "\u001b[36m\u001b[1m[ \u001b[22m\u001b[39m\u001b[36m\u001b[1mInfo: \u001b[22m\u001b[39mInstalling julia kernelspec in /root/.local/share/jupyter/kernels/julia-1.8\n",
            "\n",
            "Successfully installed julia version 1.8.2!\n",
            "Please reload this page (press Ctrl+R, ⌘+R, or the F5 key) then\n",
            "jump to the 'Checking the Installation' section.\n"
          ]
        },
        {
          "output_type": "execute_result",
          "data": {
            "text/plain": []
          },
          "metadata": {},
          "execution_count": 3
        }
      ],
      "source": [
        "%%shell\n",
        "set -e\n",
        "\n",
        "#---------------------------------------------------#\n",
        "JULIA_VERSION=\"1.8.2\" # any version ≥ 0.7.0\n",
        "JULIA_PACKAGES=\"IJulia BenchmarkTools\"\n",
        "JULIA_PACKAGES_IF_GPU=\"CUDA\" # or CuArrays for older Julia versions\n",
        "JULIA_NUM_THREADS=2\n",
        "#---------------------------------------------------#\n",
        "\n",
        "if [ -z `which julia` ]; then\n",
        "  # Install Julia\n",
        "  JULIA_VER=`cut -d '.' -f -2 <<< \"$JULIA_VERSION\"`\n",
        "  echo \"Installing Julia $JULIA_VERSION on the current Colab Runtime...\"\n",
        "  BASE_URL=\"https://julialang-s3.julialang.org/bin/linux/x64\"\n",
        "  URL=\"$BASE_URL/$JULIA_VER/julia-$JULIA_VERSION-linux-x86_64.tar.gz\"\n",
        "  wget -nv $URL -O /tmp/julia.tar.gz # -nv means \"not verbose\"\n",
        "  tar -x -f /tmp/julia.tar.gz -C /usr/local --strip-components 1\n",
        "  rm /tmp/julia.tar.gz\n",
        "  export GKSwstype=100 ;\n",
        "\n",
        "  # Install Packages\n",
        "  nvidia-smi -L &> /dev/null && export GPU=1 || export GPU=0\n",
        "  if [ $GPU -eq 1 ]; then\n",
        "    JULIA_PACKAGES=\"$JULIA_PACKAGES $JULIA_PACKAGES_IF_GPU\"\n",
        "  fi\n",
        "  for PKG in `echo $JULIA_PACKAGES`; do\n",
        "    echo \"Installing Julia package $PKG...\"\n",
        "    julia -e 'using Pkg; pkg\"add '$PKG'; precompile;\"' &> /dev/null\n",
        "  done\n",
        "\n",
        "  # Install kernel and rename it to \"julia\"\n",
        "  echo \"Installing IJulia kernel...\"\n",
        "  julia -e 'using IJulia; IJulia.installkernel(\"julia\", env=Dict(\n",
        "      \"JULIA_NUM_THREADS\"=>\"'\"$JULIA_NUM_THREADS\"'\"))'\n",
        "  KERNEL_DIR=`julia -e \"using IJulia; print(IJulia.kerneldir())\"`\n",
        "  KERNEL_NAME=`ls -d \"$KERNEL_DIR\"/julia*`\n",
        "  mv -f $KERNEL_NAME \"$KERNEL_DIR\"/julia\n",
        "\n",
        "  echo ''\n",
        "  echo \"Successfully installed `julia -v`!\"\n",
        "  echo \"Please reload this page (press Ctrl+R, ⌘+R, or the F5 key) then\"\n",
        "  echo \"jump to the 'Checking the Installation' section.\"\n",
        "fi"
      ]
    },
    {
      "cell_type": "code",
      "execution_count": null,
      "metadata": {
        "id": "nzsjQiBxzmlk"
      },
      "outputs": [],
      "source": [
        "!julia pkgimport.jl > install_log.txt 2>&1"
      ]
    },
    {
      "cell_type": "code",
      "execution_count": null,
      "metadata": {
        "id": "PUI0z4vqUNrY"
      },
      "outputs": [],
      "source": [
        "import pandas as pd\n",
        "import pandas as pd\n",
        "import unicodedata\n",
        "import re\n",
        "import subprocess\n",
        "\n",
        "def fetch_batting_orders(team_abbr, year):\n",
        "    # Construct the URL based on the team abbreviation and year == batting order\n",
        "    url = f'https://www.baseball-reference.com/teams/{team_abbr}/{year}-batting-orders.shtml#grid_table_46565'\n",
        "\n",
        "    try:\n",
        "        # Read all tables from the page\n",
        "        tables = pd.read_html(url)\n",
        "\n",
        "        # Assuming the desired table is the first one\n",
        "        df = tables[0]\n",
        "        df.iloc[:, 1:] = df.iloc[:, 1:].map(lambda x: remove_non_alpha(normalize_string(x)))\n",
        "\n",
        "        df.to_csv('br-lineups.csv', index=False)\n",
        "\n",
        "        return df\n",
        "    except Exception as e:\n",
        "        print(f\"An error occurred: {e}\")\n",
        "        return None\n",
        "\n",
        "\n",
        "def fetch_player_stats(team_abbr, year):\n",
        "    # Construct the URL based on the team abbreviation and year == batting order\n",
        "    url = f'https://www.baseball-reference.com/teams/{team_abbr}/{year}.shtml#team_batting'\n",
        "\n",
        "    try:\n",
        "        # Read all tables from the page\n",
        "        tables = pd.read_html(url)\n",
        "        #print(tables)\n",
        "\n",
        "        # Assuming the desired table is the first one\n",
        "        df = tables[0]\n",
        "        #print(df)\n",
        "        df['Name'] = df['Name'].apply(lambda x: remove_non_alpha(normalize_string(x)))\n",
        "#        df.drop([0],axis=0,inplace=True)\n",
        "        df.drop(columns=['Rk', 'Pos', 'Age','G','PA','RBI','SB','CS','BA','OBP','SLG','OPS','OPS+','TB','GDP','HBP','SH','SF','IBB'],inplace=True)\n",
        "        #print(df)\n",
        "        df = df[~df['AB'].str.contains('[a-zA-Z]', na=False)]\n",
        "        df.iloc[:, 1:] = df.iloc[:, 1:].astype(float)\n",
        "        df = df[df['AB'] > 0]\n",
        "        strikeout = pd.Series(df['SO']/df['AB'])\n",
        "        hits = pd.Series(df['H']/df['AB'])\n",
        "        doubles = pd.Series(df['2B']/df['AB'])\n",
        "        triples = pd.Series(df['3B']/df['AB'])\n",
        "        homer = pd.Series(df['HR']/df['AB'])\n",
        "        singles = hits - doubles - triples - homer\n",
        "        walks = pd.Series(df['BB']/df['AB'])\n",
        "        otherout = 1 - walks - singles - homer - triples - doubles - strikeout\n",
        "        #        df.drop(columns=['SO'], ['AB'], )\n",
        "        df = df[['Name']]\n",
        "        df['Strikeout'] = strikeout\n",
        "        df['OO'] = otherout\n",
        "        df['Walk'] = walks\n",
        "        df['Single'] = singles\n",
        "        df['Double'] = doubles\n",
        "        df['Triple'] = triples\n",
        "        df['Homer'] = homer\n",
        "        df.to_csv('br-playerstats.csv', index=False)\n",
        "\n",
        "        return df\n",
        "    except Exception as e:\n",
        "        print(f\"An error occurred: {e}\")\n",
        "        return None\n",
        "\n",
        "\n",
        "def normalize_string(s):\n",
        "    \"\"\"\n",
        "    Normalize Unicode string by removing accents.\n",
        "    \"\"\"\n",
        "    # Normalize to NFD form and remove accent marks\n",
        "    return unicodedata.normalize('NFD', s).encode('ascii', 'ignore').decode('ascii')\n",
        "\n",
        "def remove_non_alpha(s):\n",
        "    \"\"\"\n",
        "    Remove all non-alphabetic characters from the string.\n",
        "    \"\"\"\n",
        "    #return re.sub(r'[^a-zA-Z \\-]', '', s)\n",
        "    return re.sub(r'[^a-zA-Z\\s-]', '', s)\n",
        "\n",
        "def clean_names(series):\n",
        "    \"\"\"\n",
        "    Clean the names in the pandas Series by normalizing and removing non-alphabetic characters.\n",
        "    \"\"\"\n",
        "    # Apply normalization and removal of non-alphabetic characters\n",
        "    cleaned_series = series.apply(lambda x: remove_non_alpha(normalize_string(x)))\n",
        "    # Convert the cleaned Series to a list\n",
        "    cleaned_list = cleaned_series.tolist()\n",
        "    return cleaned_list\n",
        "\n",
        "# Function to extract score from the first column\n",
        "def extract_score(text):\n",
        "    match = re.search(r'\\((\\d+)-(\\d+)\\)', text)\n",
        "    if match:\n",
        "        return int(match.group(1))  # Return the first number\n",
        "    return None\n",
        "\n",
        "# Function to get lineup indices based on player names\n",
        "def get_lineup_indices(players_str, player_index):\n",
        "    #players = players_str.split('\\t')[1:]  # Skip the first element\n",
        "    lineup_indices = []\n",
        "    #print(players_str)\n",
        "    for player in players_str:\n",
        "        #last_name = player.split('-')[0].strip()  # Extract the last name\n",
        "        last_name = player.rsplit('-',1)[0].strip().split(' ')[-1]\n",
        "        # If the last name is found in the player_index mapping\n",
        "        if last_name in player_index:\n",
        "            lineup_indices.append(str(player_index[last_name]))\n",
        "\n",
        "    #print(lineup_indices)\n",
        "    return str(lineup_indices)#''.join(lineup_indices)#.ljust(9, player_index[last_name])  # Ensure it's a 9-number string\n",
        "\n",
        "\n",
        "def process_output(stat_df,input_df):\n",
        "      #player_list = clean_names(stat_df['Name'])\n",
        "      player_list = stat_df['Name']\n",
        "      #player_index = {name.split(' ')[1]: idx+1 for idx, name in enumerate(player_list)}\n",
        "\n",
        "      player_index = {\n",
        "          name.split(' ')[-2] if name.split(' ')[-1] in [\"Jr\",\"II\",\"III\",\"IV\"] else name.split(' ')[-1]: idx + 1\n",
        "          for idx, name in enumerate(player_list)\n",
        "      }\n",
        "      # Process the data\n",
        "      output_data = []\n",
        "      for _, row in input_df.iterrows():\n",
        "          first_column = row[0]\n",
        "          second_column = row[1:]\n",
        "          score = extract_score(first_column)\n",
        "          lineup_indices = get_lineup_indices(second_column, player_index)\n",
        "          output_data.append([score, lineup_indices])\n",
        "\n",
        "      # Create a DataFrame for the output\n",
        "      output_df = pd.DataFrame(output_data, columns=['Score', 'Lineup'])\n",
        "\n",
        "      # Save the output DataFrame to a new CSV file\n",
        "      output_df.to_csv('output.csv', index=False)\n",
        "      return\n"
      ]
    },
    {
      "cell_type": "markdown",
      "source": [
        "# Version 2"
      ],
      "metadata": {
        "id": "hho9ayWdN2oh"
      }
    },
    {
      "cell_type": "code",
      "source": [
        "team = 'ARI'\n",
        "yr = 2023\n",
        "\n",
        "\n",
        "\n",
        "input_df = fetch_batting_orders(team,yr)\n",
        "stat_df = fetch_player_stats(team,yr)\n",
        "process_output(stat_df,input_df)\n",
        "\n",
        "#!julia main.jl br-playerstats.csv 1 2 3 4 5 6 7 8 9"
      ],
      "metadata": {
        "colab": {
          "base_uri": "https://localhost:8080/"
        },
        "id": "16TyRW1SN3yI",
        "outputId": "69c199da-d86d-4929-d99a-0ac4f5f0d6e8"
      },
      "execution_count": null,
      "outputs": [
        {
          "output_type": "stream",
          "name": "stderr",
          "text": [
            "<ipython-input-5-9d2ccdf79b1e>:130: FutureWarning: Series.__getitem__ treating keys as positions is deprecated. In a future version, integer keys will always be treated as labels (consistent with DataFrame behavior). To access a value by position, use `ser.iloc[pos]`\n",
            "  first_column = row[0]\n"
          ]
        }
      ]
    },
    {
      "cell_type": "code",
      "source": [
        "!julia mainv2.jl br-playerstats.csv 1 2 3 4 5 6 7 8 9 ARI"
      ],
      "metadata": {
        "colab": {
          "base_uri": "https://localhost:8080/"
        },
        "id": "OdFRMAYtWsFR",
        "outputId": "0755f4ed-5439-4737-d8a1-f5f70ae245c6"
      },
      "execution_count": null,
      "outputs": [
        {
          "output_type": "stream",
          "name": "stdout",
          "text": [
            "accepted batting lineup[1, 2, 3, 4, 5, 6, 7, 8, 9]\n",
            "[19, 3, 6, 2, 11, 14, 10, 1, 25]Processing lineup: '19', '3', '6', '2', '11', '14', '10', '1', '8'\n",
            "[4.212876935582244, 6.5241099977947e-310, 6.52412571061344e-310, 6.5241256357961e-310, 6.52412563697237e-310, 6.5241256357961e-310, 6.5241099977963e-310, 6.52412571061344e-310, 6.5241256357961e-310, 6.5241256372127e-310, 6.5241256357961e-310, 6.5241258428507e-310, 6.52412573333177e-310, 6.5241258428507e-310, 6.52412571083874e-310, 6.5241259097488e-310, 6.52413568280914e-310, 6.5241257106324e-310, 6.5241257106324e-310, 6.52412591769177e-310, 6.52412563692573e-310, 6.52412571083874e-310, 6.52412571061344e-310, 6.5241257106324e-310, 6.52412571061344e-310, 6.52412571061344e-310, 6.5241256357961e-310, 6.5241256357961e-310, 6.52412571061344e-310, 6.5241256357961e-310, 6.52412591769177e-310, 6.52412563692573e-310, 6.52412571083874e-310, 6.52412571061344e-310, 6.5241256357961e-310, 6.5241256357961e-310, 6.52412571061344e-310, 6.5241256357961e-310, 6.5241256357961e-310, 6.52412584285624e-310, 6.5241256372127e-310, 6.5241256357961e-310, 6.52412591769177e-310, 6.52412591769177e-310, 6.52412571083874e-310, 6.52412571083874e-310, 6.52413568280914e-310, 6.52412563692573e-310, 6.5241256357961e-310, 6.52412571062293e-310, 6.52412571062293e-310, 6.52412571062293e-310, 6.5241257399404e-310, 6.52412571062293e-310, 6.52412571061344e-310, 6.52412571061344e-310, 6.52412571061344e-310, 6.5241256357961e-310, 6.5241258428507e-310, 6.5241256357961e-310, 6.52412573333177e-310, 6.52412571083874e-310, 6.5241258428507e-310, 6.5241256357961e-310, 6.52412563697237e-310, 6.5241256357961e-310, 6.52410999779786e-310, 6.52410999779944e-310, 6.52412571083874e-310, 6.52412571083874e-310, 6.52412571083874e-310, 6.5241256357961e-310, 6.5241258575541e-310, 6.5241256357961e-310, 6.52412571061344e-310, 6.5241258575541e-310, 6.5241256357961e-310, 6.5241256357961e-310, 6.5241256357961e-310, 6.5241064992463e-310, 6.5241099855798e-310, 6.52412571061344e-310, 6.5241256357961e-310, 6.52412563697237e-310, 6.5241256357961e-310, 6.5241099855814e-310, 6.52412571061344e-310, 6.5241256357961e-310, 6.5241256372127e-310, 6.5241256357961e-310, 6.5241258428507e-310, 6.52412573333177e-310, 6.5241258428507e-310, 6.52412571083874e-310, 6.5241259097488e-310, 6.52413568799723e-310, 6.5241257106324e-310, 6.5241257106324e-310, 6.52412591769177e-310, 6.52412563692573e-310, 6.52412571083874e-310, 6.52412571061344e-310, 6.5241257106324e-310, 6.52412571061344e-310, 6.52412571061344e-310, 6.5241256357961e-310, 6.5241256357961e-310, 6.52412571061344e-310, 6.5241256357961e-310, 6.52412591769177e-310, 6.52412563692573e-310, 6.52412571083874e-310, 6.52412571061344e-310, 6.5241256357961e-310, 6.5241256357961e-310, 6.52412571061344e-310, 6.5241256357961e-310, 6.5241256357961e-310, 6.52412584285624e-310, 6.5241256372127e-310, 6.5241256357961e-310, 6.52412591769177e-310, 6.52412591769177e-310, 6.52412571083874e-310, 6.52412571083874e-310, 6.52413568799723e-310, 6.52412563692573e-310, 6.5241256357961e-310, 6.52412571062293e-310, 6.52412571062293e-310, 6.52412571062293e-310, 6.5241257399404e-310, 6.52412571062293e-310, 6.52412571061344e-310, 6.52412571061344e-310, 6.52412571061344e-310, 6.5241256357961e-310, 6.5241258428507e-310, 6.5241256357961e-310, 6.52412573333177e-310, 6.52412571083874e-310, 6.5241258428507e-310, 6.5241256357961e-310, 6.52412563697237e-310, 6.5241256357961e-310, 6.524109985583e-310, 6.52410998558456e-310, 6.52412571083874e-310, 6.52412571083874e-310, 6.52412571083874e-310, 6.5241256357961e-310, 6.5241258575541e-310, 6.5241256357961e-310, 6.52412571061344e-310, 6.5241258575541e-310, 6.5241256357961e-310, 6.5241256357961e-310, 6.52412563697237e-310, 6.5241256357961e-310, 6.5241256357961e-310, 6.52412571061344e-310, 6.5241258575541e-310, 6.5241256357961e-310, 6.5241256357961e-310]\n",
            "\u001b[1m1×6 DataFrame\u001b[0m\n",
            "\u001b[1m Row \u001b[0m│\u001b[1m Score    \u001b[0m\u001b[1m Lineup                            \u001b[0m\u001b[1m score2  \u001b[0m\u001b[1m expectedrs                        \u001b[0m\u001b[1m probrs                            \u001b[0m\u001b[1m team   \u001b[0m\n",
            "     │\u001b[90m Float64? \u001b[0m\u001b[90m String                            \u001b[0m\u001b[90m Float64 \u001b[0m\u001b[90m String                            \u001b[0m\u001b[90m String                            \u001b[0m\u001b[90m String \u001b[0m\n",
            "─────┼────────────────────────────────────────────────────────────────────────────────────────────────────────────────────────────────────\n",
            "   1 │      2.0  ['19', '3', '6', '2', '11', '14'…  4.21288  0, 1, 2, 3, 4, 5, 6, 7, 8, 9, 10…  0.07680704793907703, 0.111007824…  ARI\n",
            "[\"Score\", \"Lineup\", \"score2\", \"expectedrs\", \"probrs\", \"team\"]\n"
          ]
        }
      ]
    },
    {
      "cell_type": "code",
      "source": [
        "teams = ['ATL', 'BAL','BOS', 'CHC','CHW','CIN','CLE','COL','DET','HOU',\n",
        "         'HOU','KCR','LAA','LAD','MIA','MIL','MIN','NYM','NYY','OAK','PHI',\n",
        "         'PIT','SDP','SEA','SFG','STL','TBR','TEX','TOR','WSN'\n",
        "         ]\n",
        "\n",
        "yr = 2023\n",
        "\n",
        "\n",
        "for team in teams:\n",
        "  print(team)\n",
        "\n",
        "  input_df = fetch_batting_orders(team,yr)\n",
        "  stat_df = fetch_player_stats(team,yr)\n",
        "  process_output(stat_df,input_df)\n",
        "  input_file = 'br-playerstats.csv'\n",
        "  columns_str = '1 2 3 4 5 6 7 8 9'\n",
        "  command = f\"julia mainv2.jl {input_file} {columns_str} {team}\"\n",
        "  result = subprocess.run(command, shell=True, check=True, text=True, capture_output=True)\n",
        "  #!julia mainv2.jl br-playerstats.csv 1 2 3 4 5 6 7 8 9 team\n"
      ],
      "metadata": {
        "colab": {
          "base_uri": "https://localhost:8080/"
        },
        "id": "3dqkbEgNRejH",
        "outputId": "e019cdd6-0ce5-4978-8e97-46316be2f58e"
      },
      "execution_count": null,
      "outputs": [
        {
          "output_type": "stream",
          "name": "stdout",
          "text": [
            "BAL\n"
          ]
        },
        {
          "output_type": "stream",
          "name": "stderr",
          "text": [
            "<ipython-input-5-9d2ccdf79b1e>:130: FutureWarning: Series.__getitem__ treating keys as positions is deprecated. In a future version, integer keys will always be treated as labels (consistent with DataFrame behavior). To access a value by position, use `ser.iloc[pos]`\n",
            "  first_column = row[0]\n"
          ]
        },
        {
          "output_type": "stream",
          "name": "stdout",
          "text": [
            "BOS\n"
          ]
        },
        {
          "output_type": "stream",
          "name": "stderr",
          "text": [
            "<ipython-input-5-9d2ccdf79b1e>:130: FutureWarning: Series.__getitem__ treating keys as positions is deprecated. In a future version, integer keys will always be treated as labels (consistent with DataFrame behavior). To access a value by position, use `ser.iloc[pos]`\n",
            "  first_column = row[0]\n"
          ]
        },
        {
          "output_type": "stream",
          "name": "stdout",
          "text": [
            "CHC\n"
          ]
        },
        {
          "output_type": "stream",
          "name": "stderr",
          "text": [
            "<ipython-input-5-9d2ccdf79b1e>:130: FutureWarning: Series.__getitem__ treating keys as positions is deprecated. In a future version, integer keys will always be treated as labels (consistent with DataFrame behavior). To access a value by position, use `ser.iloc[pos]`\n",
            "  first_column = row[0]\n"
          ]
        },
        {
          "output_type": "stream",
          "name": "stdout",
          "text": [
            "CHW\n"
          ]
        },
        {
          "output_type": "stream",
          "name": "stderr",
          "text": [
            "<ipython-input-5-9d2ccdf79b1e>:130: FutureWarning: Series.__getitem__ treating keys as positions is deprecated. In a future version, integer keys will always be treated as labels (consistent with DataFrame behavior). To access a value by position, use `ser.iloc[pos]`\n",
            "  first_column = row[0]\n"
          ]
        },
        {
          "output_type": "stream",
          "name": "stdout",
          "text": [
            "CIN\n"
          ]
        },
        {
          "output_type": "stream",
          "name": "stderr",
          "text": [
            "<ipython-input-5-9d2ccdf79b1e>:130: FutureWarning: Series.__getitem__ treating keys as positions is deprecated. In a future version, integer keys will always be treated as labels (consistent with DataFrame behavior). To access a value by position, use `ser.iloc[pos]`\n",
            "  first_column = row[0]\n"
          ]
        },
        {
          "output_type": "stream",
          "name": "stdout",
          "text": [
            "CLE\n"
          ]
        },
        {
          "output_type": "stream",
          "name": "stderr",
          "text": [
            "<ipython-input-5-9d2ccdf79b1e>:130: FutureWarning: Series.__getitem__ treating keys as positions is deprecated. In a future version, integer keys will always be treated as labels (consistent with DataFrame behavior). To access a value by position, use `ser.iloc[pos]`\n",
            "  first_column = row[0]\n"
          ]
        },
        {
          "output_type": "stream",
          "name": "stdout",
          "text": [
            "COL\n"
          ]
        },
        {
          "output_type": "stream",
          "name": "stderr",
          "text": [
            "<ipython-input-5-9d2ccdf79b1e>:130: FutureWarning: Series.__getitem__ treating keys as positions is deprecated. In a future version, integer keys will always be treated as labels (consistent with DataFrame behavior). To access a value by position, use `ser.iloc[pos]`\n",
            "  first_column = row[0]\n"
          ]
        },
        {
          "output_type": "stream",
          "name": "stdout",
          "text": [
            "DET\n"
          ]
        },
        {
          "output_type": "stream",
          "name": "stderr",
          "text": [
            "<ipython-input-5-9d2ccdf79b1e>:130: FutureWarning: Series.__getitem__ treating keys as positions is deprecated. In a future version, integer keys will always be treated as labels (consistent with DataFrame behavior). To access a value by position, use `ser.iloc[pos]`\n",
            "  first_column = row[0]\n"
          ]
        },
        {
          "output_type": "stream",
          "name": "stdout",
          "text": [
            "HOU\n"
          ]
        },
        {
          "output_type": "stream",
          "name": "stderr",
          "text": [
            "<ipython-input-5-9d2ccdf79b1e>:130: FutureWarning: Series.__getitem__ treating keys as positions is deprecated. In a future version, integer keys will always be treated as labels (consistent with DataFrame behavior). To access a value by position, use `ser.iloc[pos]`\n",
            "  first_column = row[0]\n"
          ]
        },
        {
          "output_type": "stream",
          "name": "stdout",
          "text": [
            "HOU\n"
          ]
        },
        {
          "output_type": "stream",
          "name": "stderr",
          "text": [
            "<ipython-input-5-9d2ccdf79b1e>:130: FutureWarning: Series.__getitem__ treating keys as positions is deprecated. In a future version, integer keys will always be treated as labels (consistent with DataFrame behavior). To access a value by position, use `ser.iloc[pos]`\n",
            "  first_column = row[0]\n"
          ]
        },
        {
          "output_type": "stream",
          "name": "stdout",
          "text": [
            "KCR\n"
          ]
        },
        {
          "output_type": "stream",
          "name": "stderr",
          "text": [
            "<ipython-input-5-9d2ccdf79b1e>:130: FutureWarning: Series.__getitem__ treating keys as positions is deprecated. In a future version, integer keys will always be treated as labels (consistent with DataFrame behavior). To access a value by position, use `ser.iloc[pos]`\n",
            "  first_column = row[0]\n"
          ]
        },
        {
          "output_type": "stream",
          "name": "stdout",
          "text": [
            "LAA\n"
          ]
        },
        {
          "output_type": "stream",
          "name": "stderr",
          "text": [
            "<ipython-input-5-9d2ccdf79b1e>:130: FutureWarning: Series.__getitem__ treating keys as positions is deprecated. In a future version, integer keys will always be treated as labels (consistent with DataFrame behavior). To access a value by position, use `ser.iloc[pos]`\n",
            "  first_column = row[0]\n"
          ]
        },
        {
          "output_type": "stream",
          "name": "stdout",
          "text": [
            "LAD\n"
          ]
        },
        {
          "output_type": "stream",
          "name": "stderr",
          "text": [
            "<ipython-input-5-9d2ccdf79b1e>:130: FutureWarning: Series.__getitem__ treating keys as positions is deprecated. In a future version, integer keys will always be treated as labels (consistent with DataFrame behavior). To access a value by position, use `ser.iloc[pos]`\n",
            "  first_column = row[0]\n"
          ]
        },
        {
          "output_type": "stream",
          "name": "stdout",
          "text": [
            "MIA\n"
          ]
        },
        {
          "output_type": "stream",
          "name": "stderr",
          "text": [
            "<ipython-input-5-9d2ccdf79b1e>:130: FutureWarning: Series.__getitem__ treating keys as positions is deprecated. In a future version, integer keys will always be treated as labels (consistent with DataFrame behavior). To access a value by position, use `ser.iloc[pos]`\n",
            "  first_column = row[0]\n"
          ]
        },
        {
          "output_type": "stream",
          "name": "stdout",
          "text": [
            "MIL\n"
          ]
        },
        {
          "output_type": "stream",
          "name": "stderr",
          "text": [
            "<ipython-input-5-9d2ccdf79b1e>:130: FutureWarning: Series.__getitem__ treating keys as positions is deprecated. In a future version, integer keys will always be treated as labels (consistent with DataFrame behavior). To access a value by position, use `ser.iloc[pos]`\n",
            "  first_column = row[0]\n"
          ]
        },
        {
          "output_type": "stream",
          "name": "stdout",
          "text": [
            "MIN\n"
          ]
        },
        {
          "output_type": "stream",
          "name": "stderr",
          "text": [
            "<ipython-input-5-9d2ccdf79b1e>:130: FutureWarning: Series.__getitem__ treating keys as positions is deprecated. In a future version, integer keys will always be treated as labels (consistent with DataFrame behavior). To access a value by position, use `ser.iloc[pos]`\n",
            "  first_column = row[0]\n"
          ]
        },
        {
          "output_type": "stream",
          "name": "stdout",
          "text": [
            "NYM\n"
          ]
        },
        {
          "output_type": "stream",
          "name": "stderr",
          "text": [
            "<ipython-input-5-9d2ccdf79b1e>:130: FutureWarning: Series.__getitem__ treating keys as positions is deprecated. In a future version, integer keys will always be treated as labels (consistent with DataFrame behavior). To access a value by position, use `ser.iloc[pos]`\n",
            "  first_column = row[0]\n"
          ]
        },
        {
          "output_type": "stream",
          "name": "stdout",
          "text": [
            "NYY\n"
          ]
        },
        {
          "output_type": "stream",
          "name": "stderr",
          "text": [
            "<ipython-input-5-9d2ccdf79b1e>:130: FutureWarning: Series.__getitem__ treating keys as positions is deprecated. In a future version, integer keys will always be treated as labels (consistent with DataFrame behavior). To access a value by position, use `ser.iloc[pos]`\n",
            "  first_column = row[0]\n"
          ]
        },
        {
          "output_type": "stream",
          "name": "stdout",
          "text": [
            "OAK\n"
          ]
        },
        {
          "output_type": "stream",
          "name": "stderr",
          "text": [
            "<ipython-input-5-9d2ccdf79b1e>:130: FutureWarning: Series.__getitem__ treating keys as positions is deprecated. In a future version, integer keys will always be treated as labels (consistent with DataFrame behavior). To access a value by position, use `ser.iloc[pos]`\n",
            "  first_column = row[0]\n"
          ]
        },
        {
          "output_type": "stream",
          "name": "stdout",
          "text": [
            "PHI\n"
          ]
        },
        {
          "output_type": "stream",
          "name": "stderr",
          "text": [
            "<ipython-input-5-9d2ccdf79b1e>:130: FutureWarning: Series.__getitem__ treating keys as positions is deprecated. In a future version, integer keys will always be treated as labels (consistent with DataFrame behavior). To access a value by position, use `ser.iloc[pos]`\n",
            "  first_column = row[0]\n"
          ]
        },
        {
          "output_type": "stream",
          "name": "stdout",
          "text": [
            "PIT\n"
          ]
        },
        {
          "output_type": "stream",
          "name": "stderr",
          "text": [
            "<ipython-input-5-9d2ccdf79b1e>:130: FutureWarning: Series.__getitem__ treating keys as positions is deprecated. In a future version, integer keys will always be treated as labels (consistent with DataFrame behavior). To access a value by position, use `ser.iloc[pos]`\n",
            "  first_column = row[0]\n"
          ]
        },
        {
          "output_type": "stream",
          "name": "stdout",
          "text": [
            "SDP\n"
          ]
        },
        {
          "output_type": "stream",
          "name": "stderr",
          "text": [
            "<ipython-input-5-9d2ccdf79b1e>:130: FutureWarning: Series.__getitem__ treating keys as positions is deprecated. In a future version, integer keys will always be treated as labels (consistent with DataFrame behavior). To access a value by position, use `ser.iloc[pos]`\n",
            "  first_column = row[0]\n"
          ]
        },
        {
          "output_type": "stream",
          "name": "stdout",
          "text": [
            "SEA\n"
          ]
        },
        {
          "output_type": "stream",
          "name": "stderr",
          "text": [
            "<ipython-input-5-9d2ccdf79b1e>:130: FutureWarning: Series.__getitem__ treating keys as positions is deprecated. In a future version, integer keys will always be treated as labels (consistent with DataFrame behavior). To access a value by position, use `ser.iloc[pos]`\n",
            "  first_column = row[0]\n"
          ]
        },
        {
          "output_type": "stream",
          "name": "stdout",
          "text": [
            "SFG\n"
          ]
        },
        {
          "output_type": "stream",
          "name": "stderr",
          "text": [
            "<ipython-input-5-9d2ccdf79b1e>:130: FutureWarning: Series.__getitem__ treating keys as positions is deprecated. In a future version, integer keys will always be treated as labels (consistent with DataFrame behavior). To access a value by position, use `ser.iloc[pos]`\n",
            "  first_column = row[0]\n"
          ]
        },
        {
          "output_type": "stream",
          "name": "stdout",
          "text": [
            "STL\n"
          ]
        },
        {
          "output_type": "stream",
          "name": "stderr",
          "text": [
            "<ipython-input-5-9d2ccdf79b1e>:130: FutureWarning: Series.__getitem__ treating keys as positions is deprecated. In a future version, integer keys will always be treated as labels (consistent with DataFrame behavior). To access a value by position, use `ser.iloc[pos]`\n",
            "  first_column = row[0]\n"
          ]
        },
        {
          "output_type": "stream",
          "name": "stdout",
          "text": [
            "TBR\n"
          ]
        },
        {
          "output_type": "stream",
          "name": "stderr",
          "text": [
            "<ipython-input-5-9d2ccdf79b1e>:130: FutureWarning: Series.__getitem__ treating keys as positions is deprecated. In a future version, integer keys will always be treated as labels (consistent with DataFrame behavior). To access a value by position, use `ser.iloc[pos]`\n",
            "  first_column = row[0]\n"
          ]
        },
        {
          "output_type": "stream",
          "name": "stdout",
          "text": [
            "TEX\n"
          ]
        },
        {
          "output_type": "stream",
          "name": "stderr",
          "text": [
            "<ipython-input-5-9d2ccdf79b1e>:130: FutureWarning: Series.__getitem__ treating keys as positions is deprecated. In a future version, integer keys will always be treated as labels (consistent with DataFrame behavior). To access a value by position, use `ser.iloc[pos]`\n",
            "  first_column = row[0]\n"
          ]
        },
        {
          "output_type": "stream",
          "name": "stdout",
          "text": [
            "TOR\n"
          ]
        },
        {
          "output_type": "stream",
          "name": "stderr",
          "text": [
            "<ipython-input-5-9d2ccdf79b1e>:130: FutureWarning: Series.__getitem__ treating keys as positions is deprecated. In a future version, integer keys will always be treated as labels (consistent with DataFrame behavior). To access a value by position, use `ser.iloc[pos]`\n",
            "  first_column = row[0]\n"
          ]
        },
        {
          "output_type": "stream",
          "name": "stdout",
          "text": [
            "WSN\n"
          ]
        },
        {
          "output_type": "stream",
          "name": "stderr",
          "text": [
            "<ipython-input-5-9d2ccdf79b1e>:130: FutureWarning: Series.__getitem__ treating keys as positions is deprecated. In a future version, integer keys will always be treated as labels (consistent with DataFrame behavior). To access a value by position, use `ser.iloc[pos]`\n",
            "  first_column = row[0]\n"
          ]
        }
      ]
    },
    {
      "cell_type": "code",
      "source": [
        "!julia mainv2.jl br-playerstats.csv 1 2 3 4 5 6 7 8 9 ARI"
      ],
      "metadata": {
        "colab": {
          "base_uri": "https://localhost:8080/"
        },
        "id": "i6U8bwEvVflN",
        "outputId": "198dd255-cf68-4ee8-afb8-87a78d9da438"
      },
      "execution_count": null,
      "outputs": [
        {
          "output_type": "stream",
          "name": "stdout",
          "text": [
            "accepted batting lineup[1, 2, 3, 4, 5, 6, 7, 8, 9]\n",
            "['19', '3', '6', '2', '11', '14', '10', '1', '8']\n",
            "[19, 3, 6, 2, 11, 14, 10, 1, 25]Processing lineup: '19', '3', '6', '2', '11', '14', '10', '1', '8'\n",
            "[4.212876935582244, 6.8413802382477e-310, 6.8413802382493e-310, 6.8413802384074e-310, 6.8413995749763e-310, 6.8414061833952e-310, 6.84138023825086e-310, 6.84138023825244e-310, 6.84138023840896e-310, 6.841380238254e-310, 6.8414060351795e-310, 6.8413802377086e-310, 6.8413802382556e-310, 6.84138023771016e-310, 6.8413802382572e-310, 6.84139985158587e-310, 6.84138023825877e-310, 6.84138023826035e-310, 6.84138023826193e-310, 6.8413994494591e-310, 6.8413802382635e-310, 6.8413802382651e-310, 6.84138023826667e-310, 6.84138023826825e-310, 6.84138023826983e-310, 6.8413802382714e-310, 6.84138023841054e-310, 6.84138023841212e-310, 6.841380238273e-310, 6.8413802384137e-310, 6.8413994494591e-310, 6.84138023827616e-310, 6.84138023827774e-310, 6.8413802382793e-310, 6.8414061833976e-310, 6.8414061833984e-310, 6.8413802384153e-310, 6.84138023841687e-310, 6.84140618339917e-310, 6.8413802382825e-310, 6.84138023828406e-310, 6.8414060351874e-310, 6.8413994494591e-310, 6.84139943259686e-310, 6.84138023828564e-310, 6.84138023828723e-310, 6.8413802382888e-310, 6.8413802382904e-310, 6.84140618339996e-310, 6.84138023829197e-310, 6.84138023829355e-310, 6.84138023829513e-310, 6.84139985193527e-310, 6.8413802382967e-310, 6.8413802382983e-310, 6.84138023829987e-310, 6.84138023830145e-310, 6.84138023841845e-310, 6.84138023830304e-310, 6.84140618340075e-310, 6.8413802383046e-310, 6.8413802383062e-310, 6.8413802383078e-310, 6.84140618340154e-310, 6.84137993147325e-310, 6.84140618340233e-310, 6.84138023842003e-310, 6.84138023831094e-310, 6.8413802383125e-310, 6.8413802383141e-310, 6.8413802383157e-310, 6.8414061834031e-310, 6.84138023831726e-310, 6.8414061834039e-310, 6.8413802384216e-310, 6.8413802384232e-310, 6.8414061834047e-310, 6.84138023842635e-310, 6.8414061828798e-310, 6.841380238322e-310, 6.8413802383236e-310, 6.84138023832517e-310, 6.84138023842793e-310, 6.8413995749763e-310, 6.8414061834063e-310, 6.84138023832675e-310, 6.84138023832833e-310, 6.8413802384311e-310, 6.8413802383299e-310, 6.8414060182951e-310, 6.84138023771174e-310, 6.8413802383315e-310, 6.8413802377133e-310, 6.84138023833307e-310, 6.84139985158587e-310, 6.84138023833466e-310, 6.84138023833624e-310, 6.8413802383378e-310, 6.8413994494591e-310, 6.8413802383394e-310, 6.841380238341e-310, 6.84138023834256e-310, 6.84138023834414e-310, 6.8413802383457e-310, 6.8413802383473e-310, 6.8413802384327e-310, 6.84138023843426e-310, 6.8413802383489e-310, 6.84138023843584e-310, 6.8413994494591e-310, 6.84138023835047e-310, 6.84138023835205e-310, 6.8413802383552e-310, 6.84140618340708e-310, 6.84140618340787e-310, 6.8413802384374e-310, 6.841380238439e-310, 6.84140618340866e-310, 6.84138023835837e-310, 6.84138023835995e-310, 6.8414060183006e-310, 6.8413994494591e-310, 6.84139943259686e-310, 6.84138023836153e-310, 6.8413802383631e-310, 6.8413802383647e-310, 6.8413802383663e-310, 6.84140618341024e-310, 6.84138023836786e-310, 6.84138023836944e-310, 6.841380238371e-310, 6.84139985193527e-310, 6.8413802383726e-310, 6.8413802383742e-310, 6.84138023837734e-310, 6.8413802383789e-310, 6.8413802384406e-310, 6.8413802383805e-310, 6.8414061834126e-310, 6.8413802383821e-310, 6.84138023838367e-310, 6.84138023838525e-310, 6.8414061834134e-310, 6.84137993147325e-310, 6.8414061834142e-310, 6.84138023844216e-310, 6.8413802383884e-310, 6.84138023839e-310, 6.84138023839157e-310, 6.84138023839315e-310, 6.841406183415e-310, 6.84138023839473e-310, 6.84140618341577e-310, 6.84138023844375e-310, 6.84138023844533e-310, 6.84140618341656e-310, 6.8413802384469e-310, 6.8413995749763e-310, 6.8414061834197e-310, 6.8414061834205e-310, 6.8413802384485e-310, 6.84138023845007e-310, 6.8413802384548e-310, 6.8414061830047e-310]\n",
            "\u001b[1m1×6 DataFrame\u001b[0m\n",
            "\u001b[1m Row \u001b[0m│\u001b[1m Score    \u001b[0m\u001b[1m Lineup                            \u001b[0m\u001b[1m score2  \u001b[0m\u001b[1m expectedrs                        \u001b[0m\u001b[1m probrs                            \u001b[0m\u001b[1m team   \u001b[0m\n",
            "     │\u001b[90m Float64? \u001b[0m\u001b[90m String                            \u001b[0m\u001b[90m Float64 \u001b[0m\u001b[90m String                            \u001b[0m\u001b[90m String                            \u001b[0m\u001b[90m String \u001b[0m\n",
            "─────┼────────────────────────────────────────────────────────────────────────────────────────────────────────────────────────────────────\n",
            "   1 │      2.0  ['19', '3', '6', '2', '11', '14'…  4.21288  0, 1, 2, 3, 4, 5, 6, 7, 8, 9, 10…  0.07680704793907703, 0.111007824…  ARI\n",
            "[\"Score\", \"Lineup\", \"score2\", \"expectedrs\", \"probrs\", \"team\"]\n"
          ]
        }
      ]
    },
    {
      "cell_type": "markdown",
      "source": [
        "# Analysis on V2"
      ],
      "metadata": {
        "id": "qUKAJhk-36yK"
      }
    },
    {
      "cell_type": "code",
      "source": [],
      "metadata": {
        "id": "FwQ0BR0dQgfU"
      },
      "execution_count": null,
      "outputs": []
    },
    {
      "cell_type": "markdown",
      "source": [
        "When calculating the possible game outcomes with DP, we only consider one subset of 9 players (where 8 are real players, chosen rom the first game of season), and the 9th is a synthetic player meant to bring the 9-player batting lineup to the team season average.\n",
        "\n",
        "However, this ordering is likely not optimal. When comparing the mean of all empirical scores on real-world games, vs. the mean of DP expected score computed on all real-world games, we find that DP and empirical have low MAE.\n",
        "\n",
        "Below is another example (ATL 2023)"
      ],
      "metadata": {
        "id": "0HwBJSaY8NnI"
      }
    },
    {
      "cell_type": "code",
      "source": [
        "#display(wsn_dp.iloc[:,2:].rename(columns={2:'DP_mean', 3:'RunOutcomes', 4:'ProbOutcomes', 5: 'Team'}))"
      ],
      "metadata": {
        "id": "Yvs7pclqM3tH"
      },
      "execution_count": null,
      "outputs": []
    },
    {
      "cell_type": "code",
      "source": [
        "team = 'ATL'\n",
        "yr = 2023\n",
        "\n",
        "input_df = fetch_batting_orders(team,yr)\n",
        "stat_df = fetch_player_stats(team,yr)\n",
        "process_output(stat_df,input_df)"
      ],
      "metadata": {
        "colab": {
          "base_uri": "https://localhost:8080/"
        },
        "id": "YlNFUmUaBTBE",
        "outputId": "250d448d-b3a8-43a1-d7e0-81cfc1c83f05"
      },
      "execution_count": null,
      "outputs": [
        {
          "output_type": "stream",
          "name": "stderr",
          "text": [
            "<ipython-input-5-9d2ccdf79b1e>:130: FutureWarning: Series.__getitem__ treating keys as positions is deprecated. In a future version, integer keys will always be treated as labels (consistent with DataFrame behavior). To access a value by position, use `ser.iloc[pos]`\n",
            "  first_column = row[0]\n"
          ]
        }
      ]
    },
    {
      "cell_type": "code",
      "source": [
        "wsn_empirical = pd.read_csv('output.csv')['Score'][:-2]\n",
        "\n",
        "wsn_dp = pd.read_csv('v2_probs.csv',header=None)\n",
        "print(wsn_dp.iloc[0,5])\n",
        "\n",
        "list_column_3 = wsn_dp.iloc[0, 3].split(',')  # First row, first column\n",
        "list_column_4 = wsn_dp.iloc[0, 4].split(',')  # First row, second column\n",
        "dp = float(wsn_dp.iloc[0,2])\n",
        "\n",
        "list_column_3 = [int(num) for num in list_column_3]\n",
        "list_column_4 = [float(num) for num in list_column_4]\n",
        "plt.figure(figsize=(12,9))\n",
        "plt.bar(list_column_3, list_column_4,label='DP on first 8 players and synthetic 9th')\n",
        "#plt.hist(wsn_empirical, bins = int(wsn_empirical.max()), weights=np.ones(len(wsn_empirical)) / len(wsn_empirical),color='red',alpha=.5,label='Empirical distribution (n=161)')\n",
        "\n",
        "x_positions = np.arange(0, 40)\n",
        "values, counts = np.unique(wsn_empirical, return_counts=True)\n",
        "percentages = counts / len(wsn_empirical)\n",
        "bar_counts = np.zeros(len(x_positions))\n",
        "bar_counts[values.astype(int)] = percentages\n",
        "\n",
        "plt.bar(x_positions, bar_counts, color='red', alpha=0.5, label='Empirical distribution (n=161)')\n",
        "plt.xticks(x_positions)\n",
        "\n",
        "\n",
        "plt.axvline(wsn_empirical.mean(), color = 'red', ls='--',label='Empirical Mean')\n",
        "plt.axvline(dp, color = 'blue', ls='--', label='DP Mean')\n",
        "plt.axvline(5.732590, color = 'black', ls = '-', label='Sabermetric')\n",
        "\n",
        "plt.legend()\n",
        "plt.xlabel('Runs Scored in Game')\n",
        "plt.ylabel('Probability of Runs Scored Outcome')\n",
        "plt.title(team + ' 2023')\n"
      ],
      "metadata": {
        "colab": {
          "base_uri": "https://localhost:8080/",
          "height": 830
        },
        "id": "VnezxNK485ZF",
        "outputId": "b3505282-72ba-40bc-f9a4-810971a79117"
      },
      "execution_count": null,
      "outputs": [
        {
          "output_type": "stream",
          "name": "stdout",
          "text": [
            "ATL\n"
          ]
        },
        {
          "output_type": "execute_result",
          "data": {
            "text/plain": [
              "Text(0.5, 1.0, 'ATL 2023')"
            ]
          },
          "metadata": {},
          "execution_count": 73
        },
        {
          "output_type": "display_data",
          "data": {
            "text/plain": [
              "<Figure size 1200x900 with 1 Axes>"
            ],
            "image/png": "[encoded data removed]"
          },
          "metadata": {}
        }
      ]
    },
    {
      "cell_type": "code",
      "source": [
        "df = pd.DataFrame({'DP': list_column_4[:40], 'Empirical': bar_counts})\n",
        "df['Error'] = abs(df['Empirical'] - df['DP'])\n",
        "pd.options.display.float_format = '{:20,.6f}'.format\n",
        "print('Proportion of games ending with different runs scored for DP vs. Empirical Distributions')\n",
        "display(df)"
      ],
      "metadata": {
        "colab": {
          "base_uri": "https://localhost:8080/",
          "height": 1000
        },
        "id": "0edQ4gOlQv1c",
        "outputId": "f268005b-d5bd-4d8a-d93c-db9eb72073e1"
      },
      "execution_count": null,
      "outputs": [
        {
          "output_type": "stream",
          "name": "stdout",
          "text": [
            "Proportion of games ending with different runs scored for DP vs. Empirical Distributions\n"
          ]
        },
        {
          "output_type": "display_data",
          "data": {
            "text/plain": [
              "                     DP            Empirical                Error\n",
              "0              0.025878             0.012346             0.013533\n",
              "1              0.049643             0.061728             0.012085\n",
              "2              0.073281             0.074074             0.000793\n",
              "3              0.091892             0.080247             0.011645\n",
              "4              0.102904             0.129630             0.026725\n",
              "5              0.105920             0.135802             0.029883\n",
              "6              0.101946             0.154321             0.052375\n",
              "7              0.092724             0.098765             0.006041\n",
              "8              0.080392             0.086420             0.006028\n",
              "9              0.066920             0.043210             0.023710\n",
              "10             0.053856             0.043210             0.010647\n",
              "11             0.042140             0.024691             0.017449\n",
              "12             0.032176             0.012346             0.019830\n",
              "13             0.024017             0.012346             0.011671\n",
              "14             0.017531             0.018519             0.000987\n",
              "15             0.012515             0.000000             0.012515\n",
              "16             0.008742             0.006173             0.002570\n",
              "17             0.005986             0.000000             0.005986\n",
              "18             0.004028             0.000000             0.004028\n",
              "19             0.002673             0.000000             0.002673\n",
              "20             0.001754             0.000000             0.001754\n",
              "21             0.001139             0.006173             0.005033\n",
              "22             0.000732             0.000000             0.000732\n",
              "23             0.000465             0.000000             0.000465\n",
              "24             0.000291             0.000000             0.000291\n",
              "25             0.000180             0.000000             0.000180\n",
              "26             0.000110             0.000000             0.000110\n",
              "27             0.000066             0.000000             0.000066\n",
              "28             0.000039             0.000000             0.000039\n",
              "29             0.000023             0.000000             0.000023\n",
              "30             0.000014             0.000000             0.000014\n",
              "31             0.000008             0.000000             0.000008\n",
              "32             0.000005             0.000000             0.000005\n",
              "33             0.000003             0.000000             0.000003\n",
              "34             0.000002             0.000000             0.000002\n",
              "35             0.000001             0.000000             0.000001\n",
              "36             0.000000             0.000000             0.000000\n",
              "37             0.000000             0.000000             0.000000\n",
              "38             0.000000             0.000000             0.000000\n",
              "39             0.000000             0.000000             0.000000"
            ],
            "text/html": [
              "\n",
              "  <div id=\"df-e9a0ceb4-e84c-4e31-988c-e70e15900286\" class=\"colab-df-container\">\n",
              "    <div>\n",
              "<style scoped>\n",
              "    .dataframe tbody tr th:only-of-type {\n",
              "        vertical-align: middle;\n",
              "    }\n",
              "\n",
              "    .dataframe tbody tr th {\n",
              "        vertical-align: top;\n",
              "    }\n",
              "\n",
              "    .dataframe thead th {\n",
              "        text-align: right;\n",
              "    }\n",
              "</style>\n",
              "<table border=\"1\" class=\"dataframe\">\n",
              "  <thead>\n",
              "    <tr style=\"text-align: right;\">\n",
              "      <th></th>\n",
              "      <th>DP</th>\n",
              "      <th>Empirical</th>\n",
              "      <th>Error</th>\n",
              "    </tr>\n",
              "  </thead>\n",
              "  <tbody>\n",
              "    <tr>\n",
              "      <th>0</th>\n",
              "      <td>0.025878</td>\n",
              "      <td>0.012346</td>\n",
              "      <td>0.013533</td>\n",
              "    </tr>\n",
              "    <tr>\n",
              "      <th>1</th>\n",
              "      <td>0.049643</td>\n",
              "      <td>0.061728</td>\n",
              "      <td>0.012085</td>\n",
              "    </tr>\n",
              "    <tr>\n",
              "      <th>2</th>\n",
              "      <td>0.073281</td>\n",
              "      <td>0.074074</td>\n",
              "      <td>0.000793</td>\n",
              "    </tr>\n",
              "    <tr>\n",
              "      <th>3</th>\n",
              "      <td>0.091892</td>\n",
              "      <td>0.080247</td>\n",
              "      <td>0.011645</td>\n",
              "    </tr>\n",
              "    <tr>\n",
              "      <th>4</th>\n",
              "      <td>0.102904</td>\n",
              "      <td>0.129630</td>\n",
              "      <td>0.026725</td>\n",
              "    </tr>\n",
              "    <tr>\n",
              "      <th>5</th>\n",
              "      <td>0.105920</td>\n",
              "      <td>0.135802</td>\n",
              "      <td>0.029883</td>\n",
              "    </tr>\n",
              "    <tr>\n",
              "      <th>6</th>\n",
              "      <td>0.101946</td>\n",
              "      <td>0.154321</td>\n",
              "      <td>0.052375</td>\n",
              "    </tr>\n",
              "    <tr>\n",
              "      <th>7</th>\n",
              "      <td>0.092724</td>\n",
              "      <td>0.098765</td>\n",
              "      <td>0.006041</td>\n",
              "    </tr>\n",
              "    <tr>\n",
              "      <th>8</th>\n",
              "      <td>0.080392</td>\n",
              "      <td>0.086420</td>\n",
              "      <td>0.006028</td>\n",
              "    </tr>\n",
              "    <tr>\n",
              "      <th>9</th>\n",
              "      <td>0.066920</td>\n",
              "      <td>0.043210</td>\n",
              "      <td>0.023710</td>\n",
              "    </tr>\n",
              "    <tr>\n",
              "      <th>10</th>\n",
              "      <td>0.053856</td>\n",
              "      <td>0.043210</td>\n",
              "      <td>0.010647</td>\n",
              "    </tr>\n",
              "    <tr>\n",
              "      <th>11</th>\n",
              "      <td>0.042140</td>\n",
              "      <td>0.024691</td>\n",
              "      <td>0.017449</td>\n",
              "    </tr>\n",
              "    <tr>\n",
              "      <th>12</th>\n",
              "      <td>0.032176</td>\n",
              "      <td>0.012346</td>\n",
              "      <td>0.019830</td>\n",
              "    </tr>\n",
              "    <tr>\n",
              "      <th>13</th>\n",
              "      <td>0.024017</td>\n",
              "      <td>0.012346</td>\n",
              "      <td>0.011671</td>\n",
              "    </tr>\n",
              "    <tr>\n",
              "      <th>14</th>\n",
              "      <td>0.017531</td>\n",
              "      <td>0.018519</td>\n",
              "      <td>0.000987</td>\n",
              "    </tr>\n",
              "    <tr>\n",
              "      <th>15</th>\n",
              "      <td>0.012515</td>\n",
              "      <td>0.000000</td>\n",
              "      <td>0.012515</td>\n",
              "    </tr>\n",
              "    <tr>\n",
              "      <th>16</th>\n",
              "      <td>0.008742</td>\n",
              "      <td>0.006173</td>\n",
              "      <td>0.002570</td>\n",
              "    </tr>\n",
              "    <tr>\n",
              "      <th>17</th>\n",
              "      <td>0.005986</td>\n",
              "      <td>0.000000</td>\n",
              "      <td>0.005986</td>\n",
              "    </tr>\n",
              "    <tr>\n",
              "      <th>18</th>\n",
              "      <td>0.004028</td>\n",
              "      <td>0.000000</td>\n",
              "      <td>0.004028</td>\n",
              "    </tr>\n",
              "    <tr>\n",
              "      <th>19</th>\n",
              "      <td>0.002673</td>\n",
              "      <td>0.000000</td>\n",
              "      <td>0.002673</td>\n",
              "    </tr>\n",
              "    <tr>\n",
              "      <th>20</th>\n",
              "      <td>0.001754</td>\n",
              "      <td>0.000000</td>\n",
              "      <td>0.001754</td>\n",
              "    </tr>\n",
              "    <tr>\n",
              "      <th>21</th>\n",
              "      <td>0.001139</td>\n",
              "      <td>0.006173</td>\n",
              "      <td>0.005033</td>\n",
              "    </tr>\n",
              "    <tr>\n",
              "      <th>22</th>\n",
              "      <td>0.000732</td>\n",
              "      <td>0.000000</td>\n",
              "      <td>0.000732</td>\n",
              "    </tr>\n",
              "    <tr>\n",
              "      <th>23</th>\n",
              "      <td>0.000465</td>\n",
              "      <td>0.000000</td>\n",
              "      <td>0.000465</td>\n",
              "    </tr>\n",
              "    <tr>\n",
              "      <th>24</th>\n",
              "      <td>0.000291</td>\n",
              "      <td>0.000000</td>\n",
              "      <td>0.000291</td>\n",
              "    </tr>\n",
              "    <tr>\n",
              "      <th>25</th>\n",
              "      <td>0.000180</td>\n",
              "      <td>0.000000</td>\n",
              "      <td>0.000180</td>\n",
              "    </tr>\n",
              "    <tr>\n",
              "      <th>26</th>\n",
              "      <td>0.000110</td>\n",
              "      <td>0.000000</td>\n",
              "      <td>0.000110</td>\n",
              "    </tr>\n",
              "    <tr>\n",
              "      <th>27</th>\n",
              "      <td>0.000066</td>\n",
              "      <td>0.000000</td>\n",
              "      <td>0.000066</td>\n",
              "    </tr>\n",
              "    <tr>\n",
              "      <th>28</th>\n",
              "      <td>0.000039</td>\n",
              "      <td>0.000000</td>\n",
              "      <td>0.000039</td>\n",
              "    </tr>\n",
              "    <tr>\n",
              "      <th>29</th>\n",
              "      <td>0.000023</td>\n",
              "      <td>0.000000</td>\n",
              "      <td>0.000023</td>\n",
              "    </tr>\n",
              "    <tr>\n",
              "      <th>30</th>\n",
              "      <td>0.000014</td>\n",
              "      <td>0.000000</td>\n",
              "      <td>0.000014</td>\n",
              "    </tr>\n",
              "    <tr>\n",
              "      <th>31</th>\n",
              "      <td>0.000008</td>\n",
              "      <td>0.000000</td>\n",
              "      <td>0.000008</td>\n",
              "    </tr>\n",
              "    <tr>\n",
              "      <th>32</th>\n",
              "      <td>0.000005</td>\n",
              "      <td>0.000000</td>\n",
              "      <td>0.000005</td>\n",
              "    </tr>\n",
              "    <tr>\n",
              "      <th>33</th>\n",
              "      <td>0.000003</td>\n",
              "      <td>0.000000</td>\n",
              "      <td>0.000003</td>\n",
              "    </tr>\n",
              "    <tr>\n",
              "      <th>34</th>\n",
              "      <td>0.000002</td>\n",
              "      <td>0.000000</td>\n",
              "      <td>0.000002</td>\n",
              "    </tr>\n",
              "    <tr>\n",
              "      <th>35</th>\n",
              "      <td>0.000001</td>\n",
              "      <td>0.000000</td>\n",
              "      <td>0.000001</td>\n",
              "    </tr>\n",
              "    <tr>\n",
              "      <th>36</th>\n",
              "      <td>0.000000</td>\n",
              "      <td>0.000000</td>\n",
              "      <td>0.000000</td>\n",
              "    </tr>\n",
              "    <tr>\n",
              "      <th>37</th>\n",
              "      <td>0.000000</td>\n",
              "      <td>0.000000</td>\n",
              "      <td>0.000000</td>\n",
              "    </tr>\n",
              "    <tr>\n",
              "      <th>38</th>\n",
              "      <td>0.000000</td>\n",
              "      <td>0.000000</td>\n",
              "      <td>0.000000</td>\n",
              "    </tr>\n",
              "    <tr>\n",
              "      <th>39</th>\n",
              "      <td>0.000000</td>\n",
              "      <td>0.000000</td>\n",
              "      <td>0.000000</td>\n",
              "    </tr>\n",
              "  </tbody>\n",
              "</table>\n",
              "</div>\n",
              "    <div class=\"colab-df-buttons\">\n",
              "\n",
              "  <div class=\"colab-df-container\">\n",
              "    <button class=\"colab-df-convert\" onclick=\"convertToInteractive('df-e9a0ceb4-e84c-4e31-988c-e70e15900286')\"\n",
              "            title=\"Convert this dataframe to an interactive table.\"\n",
              "            style=\"display:none;\">\n",
              "\n",
              "  <svg xmlns=\"http://www.w3.org/2000/svg\" height=\"24px\" viewBox=\"0 -960 960 960\">\n",
              "    <path d=\"M120-120v-720h720v720H120Zm60-500h600v-160H180v160Zm220 220h160v-160H400v160Zm0 220h160v-160H400v160ZM180-400h160v-160H180v160Zm440 0h160v-160H620v160ZM180-180h160v-160H180v160Zm440 0h160v-160H620v160Z\"/>\n",
              "  </svg>\n",
              "    </button>\n",
              "\n",
              "  <style>\n",
              "    .colab-df-container {\n",
              "      display:flex;\n",
              "      gap: 12px;\n",
              "    }\n",
              "\n",
              "    .colab-df-convert {\n",
              "      background-color: #E8F0FE;\n",
              "      border: none;\n",
              "      border-radius: 50%;\n",
              "      cursor: pointer;\n",
              "      display: none;\n",
              "      fill: #1967D2;\n",
              "      height: 32px;\n",
              "      padding: 0 0 0 0;\n",
              "      width: 32px;\n",
              "    }\n",
              "\n",
              "    .colab-df-convert:hover {\n",
              "      background-color: #E2EBFA;\n",
              "      box-shadow: 0px 1px 2px rgba(60, 64, 67, 0.3), 0px 1px 3px 1px rgba(60, 64, 67, 0.15);\n",
              "      fill: #174EA6;\n",
              "    }\n",
              "\n",
              "    .colab-df-buttons div {\n",
              "      margin-bottom: 4px;\n",
              "    }\n",
              "\n",
              "    [theme=dark] .colab-df-convert {\n",
              "      background-color: #3B4455;\n",
              "      fill: #D2E3FC;\n",
              "    }\n",
              "\n",
              "    [theme=dark] .colab-df-convert:hover {\n",
              "      background-color: #434B5C;\n",
              "      box-shadow: 0px 1px 3px 1px rgba(0, 0, 0, 0.15);\n",
              "      filter: drop-shadow(0px 1px 2px rgba(0, 0, 0, 0.3));\n",
              "      fill: #FFFFFF;\n",
              "    }\n",
              "  </style>\n",
              "\n",
              "    <script>\n",
              "      const buttonEl =\n",
              "        document.querySelector('#df-e9a0ceb4-e84c-4e31-988c-e70e15900286 button.colab-df-convert');\n",
              "      buttonEl.style.display =\n",
              "        google.colab.kernel.accessAllowed ? 'block' : 'none';\n",
              "\n",
              "      async function convertToInteractive(key) {\n",
              "        const element = document.querySelector('#df-e9a0ceb4-e84c-4e31-988c-e70e15900286');\n",
              "        const dataTable =\n",
              "          await google.colab.kernel.invokeFunction('convertToInteractive',\n",
              "                                                    [key], {});\n",
              "        if (!dataTable) return;\n",
              "\n",
              "        const docLinkHtml = 'Like what you see? Visit the ' +\n",
              "          '<a target=\"_blank\" href=https://colab.research.google.com/notebooks/data_table.ipynb>data table notebook</a>'\n",
              "          + ' to learn more about interactive tables.';\n",
              "        element.innerHTML = '';\n",
              "        dataTable['output_type'] = 'display_data';\n",
              "        await google.colab.output.renderOutput(dataTable, element);\n",
              "        const docLink = document.createElement('div');\n",
              "        docLink.innerHTML = docLinkHtml;\n",
              "        element.appendChild(docLink);\n",
              "      }\n",
              "    </script>\n",
              "  </div>\n",
              "\n",
              "\n",
              "<div id=\"df-8e136f12-e1fa-4f78-ad84-f2d966b7b446\">\n",
              "  <button class=\"colab-df-quickchart\" onclick=\"quickchart('df-8e136f12-e1fa-4f78-ad84-f2d966b7b446')\"\n",
              "            title=\"Suggest charts\"\n",
              "            style=\"display:none;\">\n",
              "\n",
              "<svg xmlns=\"http://www.w3.org/2000/svg\" height=\"24px\"viewBox=\"0 0 24 24\"\n",
              "     width=\"24px\">\n",
              "    <g>\n",
              "        <path d=\"M19 3H5c-1.1 0-2 .9-2 2v14c0 1.1.9 2 2 2h14c1.1 0 2-.9 2-2V5c0-1.1-.9-2-2-2zM9 17H7v-7h2v7zm4 0h-2V7h2v10zm4 0h-2v-4h2v4z\"/>\n",
              "    </g>\n",
              "</svg>\n",
              "  </button>\n",
              "\n",
              "<style>\n",
              "  .colab-df-quickchart {\n",
              "      --bg-color: #E8F0FE;\n",
              "      --fill-color: #1967D2;\n",
              "      --hover-bg-color: #E2EBFA;\n",
              "      --hover-fill-color: #174EA6;\n",
              "      --disabled-fill-color: #AAA;\n",
              "      --disabled-bg-color: #DDD;\n",
              "  }\n",
              "\n",
              "  [theme=dark] .colab-df-quickchart {\n",
              "      --bg-color: #3B4455;\n",
              "      --fill-color: #D2E3FC;\n",
              "      --hover-bg-color: #434B5C;\n",
              "      --hover-fill-color: #FFFFFF;\n",
              "      --disabled-bg-color: #3B4455;\n",
              "      --disabled-fill-color: #666;\n",
              "  }\n",
              "\n",
              "  .colab-df-quickchart {\n",
              "    background-color: var(--bg-color);\n",
              "    border: none;\n",
              "    border-radius: 50%;\n",
              "    cursor: pointer;\n",
              "    display: none;\n",
              "    fill: var(--fill-color);\n",
              "    height: 32px;\n",
              "    padding: 0;\n",
              "    width: 32px;\n",
              "  }\n",
              "\n",
              "  .colab-df-quickchart:hover {\n",
              "    background-color: var(--hover-bg-color);\n",
              "    box-shadow: 0 1px 2px rgba(60, 64, 67, 0.3), 0 1px 3px 1px rgba(60, 64, 67, 0.15);\n",
              "    fill: var(--button-hover-fill-color);\n",
              "  }\n",
              "\n",
              "  .colab-df-quickchart-complete:disabled,\n",
              "  .colab-df-quickchart-complete:disabled:hover {\n",
              "    background-color: var(--disabled-bg-color);\n",
              "    fill: var(--disabled-fill-color);\n",
              "    box-shadow: none;\n",
              "  }\n",
              "\n",
              "  .colab-df-spinner {\n",
              "    border: 2px solid var(--fill-color);\n",
              "    border-color: transparent;\n",
              "    border-bottom-color: var(--fill-color);\n",
              "    animation:\n",
              "      spin 1s steps(1) infinite;\n",
              "  }\n",
              "\n",
              "  @keyframes spin {\n",
              "    0% {\n",
              "      border-color: transparent;\n",
              "      border-bottom-color: var(--fill-color);\n",
              "      border-left-color: var(--fill-color);\n",
              "    }\n",
              "    20% {\n",
              "      border-color: transparent;\n",
              "      border-left-color: var(--fill-color);\n",
              "      border-top-color: var(--fill-color);\n",
              "    }\n",
              "    30% {\n",
              "      border-color: transparent;\n",
              "      border-left-color: var(--fill-color);\n",
              "      border-top-color: var(--fill-color);\n",
              "      border-right-color: var(--fill-color);\n",
              "    }\n",
              "    40% {\n",
              "      border-color: transparent;\n",
              "      border-right-color: var(--fill-color);\n",
              "      border-top-color: var(--fill-color);\n",
              "    }\n",
              "    60% {\n",
              "      border-color: transparent;\n",
              "      border-right-color: var(--fill-color);\n",
              "    }\n",
              "    80% {\n",
              "      border-color: transparent;\n",
              "      border-right-color: var(--fill-color);\n",
              "      border-bottom-color: var(--fill-color);\n",
              "    }\n",
              "    90% {\n",
              "      border-color: transparent;\n",
              "      border-bottom-color: var(--fill-color);\n",
              "    }\n",
              "  }\n",
              "</style>\n",
              "\n",
              "  <script>\n",
              "    async function quickchart(key) {\n",
              "      const quickchartButtonEl =\n",
              "        document.querySelector('#' + key + ' button');\n",
              "      quickchartButtonEl.disabled = true;  // To prevent multiple clicks.\n",
              "      quickchartButtonEl.classList.add('colab-df-spinner');\n",
              "      try {\n",
              "        const charts = await google.colab.kernel.invokeFunction(\n",
              "            'suggestCharts', [key], {});\n",
              "      } catch (error) {\n",
              "        console.error('Error during call to suggestCharts:', error);\n",
              "      }\n",
              "      quickchartButtonEl.classList.remove('colab-df-spinner');\n",
              "      quickchartButtonEl.classList.add('colab-df-quickchart-complete');\n",
              "    }\n",
              "    (() => {\n",
              "      let quickchartButtonEl =\n",
              "        document.querySelector('#df-8e136f12-e1fa-4f78-ad84-f2d966b7b446 button');\n",
              "      quickchartButtonEl.style.display =\n",
              "        google.colab.kernel.accessAllowed ? 'block' : 'none';\n",
              "    })();\n",
              "  </script>\n",
              "</div>\n",
              "\n",
              "  <div id=\"id_e93e5ca6-48d7-4684-9bd3-715c8f3e82af\">\n",
              "    <style>\n",
              "      .colab-df-generate {\n",
              "        background-color: #E8F0FE;\n",
              "        border: none;\n",
              "        border-radius: 50%;\n",
              "        cursor: pointer;\n",
              "        display: none;\n",
              "        fill: #1967D2;\n",
              "        height: 32px;\n",
              "        padding: 0 0 0 0;\n",
              "        width: 32px;\n",
              "      }\n",
              "\n",
              "      .colab-df-generate:hover {\n",
              "        background-color: #E2EBFA;\n",
              "        box-shadow: 0px 1px 2px rgba(60, 64, 67, 0.3), 0px 1px 3px 1px rgba(60, 64, 67, 0.15);\n",
              "        fill: #174EA6;\n",
              "      }\n",
              "\n",
              "      [theme=dark] .colab-df-generate {\n",
              "        background-color: #3B4455;\n",
              "        fill: #D2E3FC;\n",
              "      }\n",
              "\n",
              "      [theme=dark] .colab-df-generate:hover {\n",
              "        background-color: #434B5C;\n",
              "        box-shadow: 0px 1px 3px 1px rgba(0, 0, 0, 0.15);\n",
              "        filter: drop-shadow(0px 1px 2px rgba(0, 0, 0, 0.3));\n",
              "        fill: #FFFFFF;\n",
              "      }\n",
              "    </style>\n",
              "    <button class=\"colab-df-generate\" onclick=\"generateWithVariable('df')\"\n",
              "            title=\"Generate code using this dataframe.\"\n",
              "            style=\"display:none;\">\n",
              "\n",
              "  <svg xmlns=\"http://www.w3.org/2000/svg\" height=\"24px\"viewBox=\"0 0 24 24\"\n",
              "       width=\"24px\">\n",
              "    <path d=\"M7,19H8.4L18.45,9,17,7.55,7,17.6ZM5,21V16.75L18.45,3.32a2,2,0,0,1,2.83,0l1.4,1.43a1.91,1.91,0,0,1,.58,1.4,1.91,1.91,0,0,1-.58,1.4L9.25,21ZM18.45,9,17,7.55Zm-12,3A5.31,5.31,0,0,0,4.9,8.1,5.31,5.31,0,0,0,1,6.5,5.31,5.31,0,0,0,4.9,4.9,5.31,5.31,0,0,0,6.5,1,5.31,5.31,0,0,0,8.1,4.9,5.31,5.31,0,0,0,12,6.5,5.46,5.46,0,0,0,6.5,12Z\"/>\n",
              "  </svg>\n",
              "    </button>\n",
              "    <script>\n",
              "      (() => {\n",
              "      const buttonEl =\n",
              "        document.querySelector('#id_e93e5ca6-48d7-4684-9bd3-715c8f3e82af button.colab-df-generate');\n",
              "      buttonEl.style.display =\n",
              "        google.colab.kernel.accessAllowed ? 'block' : 'none';\n",
              "\n",
              "      buttonEl.onclick = () => {\n",
              "        google.colab.notebook.generateWithVariable('df');\n",
              "      }\n",
              "      })();\n",
              "    </script>\n",
              "  </div>\n",
              "\n",
              "    </div>\n",
              "  </div>\n"
            ],
            "application/vnd.google.colaboratory.intrinsic+json": {
              "type": "dataframe",
              "variable_name": "df",
              "summary": "{\n  \"name\": \"df\",\n  \"rows\": 40,\n  \"fields\": [\n    {\n      \"column\": \"DP\",\n      \"properties\": {\n        \"dtype\": \"number\",\n        \"std\": 0.036013482546142644,\n        \"min\": 8.553156121046774e-08,\n        \"max\": 0.10591989855619488,\n        \"num_unique_values\": 40,\n        \"samples\": [\n          0.0026734657781681496,\n          0.008742364512945203,\n          0.012515063725416562\n        ],\n        \"semantic_type\": \"\",\n        \"description\": \"\"\n      }\n    },\n    {\n      \"column\": \"Empirical\",\n      \"properties\": {\n        \"dtype\": \"number\",\n        \"std\": 0.04303882391516028,\n        \"min\": 0.0,\n        \"max\": 0.15432098765432098,\n        \"num_unique_values\": 14,\n        \"samples\": [\n          0.043209876543209874,\n          0.018518518518518517,\n          0.012345679012345678\n        ],\n        \"semantic_type\": \"\",\n        \"description\": \"\"\n      }\n    },\n    {\n      \"column\": \"Error\",\n      \"properties\": {\n        \"dtype\": \"number\",\n        \"std\": 0.010968654628289087,\n        \"min\": 8.553156121046774e-08,\n        \"max\": 0.05237505838707776,\n        \"num_unique_values\": 40,\n        \"samples\": [\n          0.0026734657781681496,\n          0.0025695250067723635,\n          0.012515063725416562\n        ],\n        \"semantic_type\": \"\",\n        \"description\": \"\"\n      }\n    }\n  ]\n}"
            }
          },
          "metadata": {}
        }
      ]
    },
    {
      "cell_type": "markdown",
      "metadata": {
        "id": "rIxWgen8-0SS"
      },
      "source": [
        "# Main Code: 2023 Red Sox batting avgs\n"
      ]
    },
    {
      "cell_type": "code",
      "execution_count": null,
      "metadata": {
        "colab": {
          "base_uri": "https://localhost:8080/"
        },
        "id": "Fb94T6x2jPa0",
        "outputId": "39e569f8-6dbe-4175-b744-c943fdcdadcf"
      },
      "outputs": [
        {
          "name": "stdout",
          "output_type": "stream",
          "text": [
            "Player batting probabilities all sum to 1\n",
            "accepted batting lineup[4, 7, 3, 2, 9, 1, 8, 5, 6]\n",
            "populating memo\n",
            "  0.515292 seconds (913.75 k allocations: 45.446 MiB, 92.77% compilation time)\n",
            "calculating expected runs\n",
            "p(0) is 0.06335467282283026\n",
            "p(1) is 0.09492857084728976\n",
            "p(2) is 0.11776186497140737\n",
            "p(3) is 0.12603903440538347\n",
            "p(4) is 0.121749016406277\n",
            "p(5) is 0.10939608609076235\n",
            "p(6) is 0.09283852881568241\n",
            "p(7) is 0.07501205566147555\n",
            "p(8) is 0.05812921003438619\n",
            "p(9) is 0.04340392478136401\n",
            "p(10) is 0.03139013208792811\n",
            "p(11) is 0.022089685505928026\n",
            "p(12) is 0.01519095981800549\n",
            "p(13) is 0.010241139936626939\n",
            "p(14) is 0.006778697612757728\n",
            "p(15) is 0.004407144678288749\n",
            "p(16) is 0.00281384742333539\n",
            "p(17) is 0.0017647239663086726\n",
            "p(18) is 0.0010883495655138965\n",
            "p(19) is 0.0006614055889739304\n",
            "p(20) is 0.00039708543914248625\n",
            "p(21) is 0.00023602863778220148\n",
            "p(22) is 0.0001390597507922986\n",
            "p(23) is 8.118968619189076e-5\n",
            "p(24) is 4.692063610467783e-5\n",
            "p(25) is 2.6806870088727633e-5\n",
            "p(26) is 1.5132800434272427e-5\n",
            "p(27) is 8.446796897161522e-6\n",
            "p(28) is 4.670527486888058e-6\n",
            "p(29) is 2.564269564695462e-6\n",
            "p(30) is 1.4006170232307157e-6\n",
            "p(31) is 7.61601445694674e-7\n",
            "p(32) is 4.119567457249056e-7\n",
            "p(33) is 2.2127392004220315e-7\n",
            "p(34) is 1.1781300727717051e-7\n",
            "p(35) is 6.212493927503432e-8\n",
            "p(36) is 3.246331166606238e-8\n",
            "p(37) is 1.684200435685507e-8\n",
            "p(38) is 8.696481812811418e-9\n",
            "p(39) is 4.478353416695806e-9\n",
            "p(40) is 2.3014156539604712e-9\n",
            " 29.694665 seconds (409.50 M allocations: 19.384 GiB, 11.04% gc time, 1.84% compilation time)\n",
            "4.841375056924312\n"
          ]
        }
      ],
      "source": [
        "!julia main.jl redsox_2023.csv 4 7 3 2 9 1 8 5 6"
      ]
    },
    {
      "cell_type": "code",
      "execution_count": null,
      "metadata": {
        "colab": {
          "base_uri": "https://localhost:8080/"
        },
        "id": "Cxif0qk233HS",
        "outputId": "2490bc71-21b7-495b-bfc9-c5f17d5dcb05"
      },
      "outputs": [
        {
          "name": "stdout",
          "output_type": "stream",
          "text": [
            "Expected Number (Mean): 4.841375056924311\n"
          ]
        }
      ],
      "source": [
        "!julia plotpmf.jl"
      ]
    },
    {
      "cell_type": "code",
      "execution_count": null,
      "metadata": {
        "colab": {
          "base_uri": "https://localhost:8080/"
        },
        "id": "-Hdu4vVT4Fqg",
        "outputId": "e51b489e-9808-4069-b0d0-0c0b76a69e49"
      },
      "outputs": [
        {
          "name": "stdout",
          "output_type": "stream",
          "text": [
            "maxR = 40 by default\n"
          ]
        }
      ],
      "source": [
        "!julia plotquantile.jl"
      ]
    },
    {
      "cell_type": "markdown",
      "metadata": {
        "id": "SNx0LY-Fv86Q"
      },
      "source": [
        "Plots"
      ]
    },
    {
      "cell_type": "code",
      "execution_count": null,
      "metadata": {
        "colab": {
          "base_uri": "https://localhost:8080/",
          "height": 417
        },
        "id": "frew2LsZhm_e",
        "outputId": "db0d8b17-7082-4e05-87fd-633d89e0f7bb"
      },
      "outputs": [
        {
          "data": {
            "image/png": "[encoded data removed]",
            "text/plain": [
              "<IPython.core.display.Image object>"
            ]
          },
          "execution_count": 49,
          "metadata": {},
          "output_type": "execute_result"
        }
      ],
      "source": [
        "from IPython.display import Image\n",
        "Image(filename='pmf.png')\n"
      ]
    },
    {
      "cell_type": "code",
      "execution_count": null,
      "metadata": {
        "colab": {
          "base_uri": "https://localhost:8080/",
          "height": 417
        },
        "id": "A1LVmv1uhm4T",
        "outputId": "b1300c1a-6ad3-475c-907a-dda52c58dc82"
      },
      "outputs": [
        {
          "data": {
            "image/png": "[encoded data removed]",
            "text/plain": [
              "<IPython.core.display.Image object>"
            ]
          },
          "execution_count": 50,
          "metadata": {},
          "output_type": "execute_result"
        }
      ],
      "source": [
        "from IPython.display import Image\n",
        "Image(filename='quantile.png')\n"
      ]
    },
    {
      "cell_type": "code",
      "execution_count": null,
      "metadata": {
        "colab": {
          "base_uri": "https://localhost:8080/"
        },
        "id": "TR9tJAOdhmxd",
        "outputId": "d8986f61-5a40-4859-99a9-b3da90a08416"
      },
      "outputs": [
        {
          "name": "stdout",
          "output_type": "stream",
          "text": [
            "Accepted batting lineup [4, 7, 3, 2, 9, 1, 8, 5, 6]\n",
            "Comparison of DP vs. Simulated Summary Stats:\n",
            "\u001b[1m4×3 DataFrame\u001b[0m\n",
            "\u001b[1m Row \u001b[0m│\u001b[1m Metric                 \u001b[0m\u001b[1m DP       \u001b[0m\u001b[1m Simulated \u001b[0m\n",
            "     │\u001b[90m String                 \u001b[0m\u001b[90m Float64  \u001b[0m\u001b[90m Float64   \u001b[0m\n",
            "─────┼─────────────────────────────────────────────\n",
            "   1 │ Expected Number (Mean)   4.84138    4.82632\n",
            "   2 │ Standard Deviation       3.39297    3.39091\n",
            "   3 │ Minimum                  0.0        0.0\n",
            "   4 │ Maximum                 40.0       35.0\n",
            "\n",
            "Comparison of DP vs. Simulated histograms:\n",
            "\u001b[1m4×2 DataFrame\u001b[0m\n",
            "\u001b[1m Row \u001b[0m│\u001b[1m Metric      \u001b[0m\u001b[1m Value      \u001b[0m\n",
            "     │\u001b[90m String      \u001b[0m\u001b[90m Float64    \u001b[0m\n",
            "─────┼─────────────────────────\n",
            "   1 │ Sum abs dif  0.00383621\n",
            "   2 │ Sum sq dif   1.65474e-6\n",
            "   3 │ Corr         0.999987\n",
            "   4 │ Chi-square   3.84919e-5\n",
            "\n",
            "Table of difference in Pr(r) (%) for DP - sim\n",
            "\u001b[1m32×2 DataFrame\u001b[0m\n",
            "\u001b[1m Row \u001b[0m│\u001b[1m R     \u001b[0m\u001b[1m Difference   \u001b[0m\n",
            "     │\u001b[90m Int64 \u001b[0m\u001b[90m Float64      \u001b[0m\n",
            "─────┼─────────────────────\n",
            "   1 │     0  -0.0799327\n",
            "   2 │     1  -0.0377429\n",
            "   3 │     2  -0.0700135\n",
            "   4 │     3  -0.000796559\n",
            "   5 │     4   0.00880164\n",
            "   6 │     5   0.000208609\n",
            "   7 │     6   0.0139529\n",
            "   8 │     7   0.0188056\n",
            "   9 │     8   0.031021\n",
            "  10 │     9   0.0258925\n",
            "  11 │    10   0.0325132\n",
            "  12 │    11   0.00896855\n",
            "  13 │    12   0.00439598\n",
            "  14 │    13   0.014614\n",
            "  15 │    14   0.00476976\n",
            "  16 │    15   0.00891447\n",
            "  17 │    16   0.00728474\n",
            "  18 │    17   0.0044724\n",
            "  19 │    18   0.00413496\n",
            "  20 │    19  -0.00255944\n",
            "  21 │    20   0.00140854\n",
            "  22 │    21   0.000802864\n",
            "  23 │    22  -0.000194025\n",
            "  24 │    23   0.000118969\n",
            "  25 │    24   0.000592064\n",
            "  26 │    25   8.0687e-5\n",
            "  27 │    26   1.328e-5\n",
            "  28 │    27  -5.53203e-5\n",
            "  29 │    28  -0.000332947\n",
            "  30 │    29  -0.000143573\n",
            "  31 │    30  -5.99383e-5\n",
            "  32 │    31  -2.38399e-5\n",
            "\n",
            "Table of computed Pr(r) (%) for DP and Sim\n",
            "\u001b[1m32×3 DataFrame\u001b[0m\n",
            "\u001b[1m Row \u001b[0m│\u001b[1m R     \u001b[0m\u001b[1m DP           \u001b[0m\u001b[1m Sim     \u001b[0m\n",
            "     │\u001b[90m Int64 \u001b[0m\u001b[90m Float64      \u001b[0m\u001b[90m Float64 \u001b[0m\n",
            "─────┼──────────────────────────────\n",
            "   1 │     0   6.33547       6.4154\n",
            "   2 │     1   9.49286       9.5306\n",
            "   3 │     2  11.7762       11.8462\n",
            "   4 │     3  12.6039       12.6047\n",
            "   5 │     4  12.1749       12.1661\n",
            "   6 │     5  10.9396       10.9394\n",
            "   7 │     6   9.28385       9.2699\n",
            "   8 │     7   7.50121       7.4824\n",
            "   9 │     8   5.81292       5.7819\n",
            "  10 │     9   4.34039       4.3145\n",
            "  11 │    10   3.13901       3.1065\n",
            "  12 │    11   2.20897       2.2\n",
            "  13 │    12   1.5191        1.5147\n",
            "  14 │    13   1.02411       1.0095\n",
            "  15 │    14   0.67787       0.6731\n",
            "  16 │    15   0.440714      0.4318\n",
            "  17 │    16   0.281385      0.2741\n",
            "  18 │    17   0.176472      0.172\n",
            "  19 │    18   0.108835      0.1047\n",
            "  20 │    19   0.0661406     0.0687\n",
            "  21 │    20   0.0397085     0.0383\n",
            "  22 │    21   0.0236029     0.0228\n",
            "  23 │    22   0.013906      0.0141\n",
            "  24 │    23   0.00811897    0.008\n",
            "  25 │    24   0.00469206    0.0041\n",
            "  26 │    25   0.00268069    0.0026\n",
            "  27 │    26   0.00151328    0.0015\n",
            "  28 │    27   0.00084468    0.0009\n",
            "  29 │    28   0.000467053   0.0008\n",
            "  30 │    29   0.000256427   0.0004\n",
            "  31 │    30   0.000140062   0.0002\n",
            "  32 │    31   7.61601e-5    0.0001\n",
            "\n"
          ]
        }
      ],
      "source": [
        "!julia sim.jl redsox_2023.csv 1000000 4 7 3 2 9 1 8 5 6"
      ]
    },
    {
      "cell_type": "code",
      "execution_count": null,
      "metadata": {
        "colab": {
          "base_uri": "https://localhost:8080/",
          "height": 417
        },
        "id": "OJAdfBFehtYK",
        "outputId": "c4592188-9847-4e1f-e25e-2ae53837d858"
      },
      "outputs": [
        {
          "data": {
            "image/png": "[encoded data removed]",
            "text/plain": [
              "<IPython.core.display.Image object>"
            ]
          },
          "execution_count": 52,
          "metadata": {},
          "output_type": "execute_result"
        }
      ],
      "source": [
        "from IPython.display import Image\n",
        "Image(filename='histogram-comparison.png')\n"
      ]
    },
    {
      "cell_type": "code",
      "execution_count": null,
      "metadata": {
        "colab": {
          "base_uri": "https://localhost:8080/",
          "height": 417
        },
        "id": "zDydQ5CBhvbK",
        "outputId": "4ee3878c-3311-4b98-edf5-f16c5da08867"
      },
      "outputs": [
        {
          "data": {
            "image/png": "[encoded data removed]",
            "text/plain": [
              "<IPython.core.display.Image object>"
            ]
          },
          "execution_count": 53,
          "metadata": {},
          "output_type": "execute_result"
        }
      ],
      "source": [
        "from IPython.display import Image\n",
        "Image(filename='dpsim-difference.png')\n"
      ]
    }
  ],
  "metadata": {
    "colab": {
      "collapsed_sections": [
        "rIxWgen8-0SS"
      ],
      "provenance": []
    },
    "kernelspec": {
      "display_name": "Python 3",
      "name": "python3"
    },
    "language_info": {
      "name": "python"
    }
  },
  "nbformat": 4,
  "nbformat_minor": 0
}